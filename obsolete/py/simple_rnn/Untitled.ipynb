{
 "cells": [
  {
   "cell_type": "code",
   "execution_count": 2,
   "metadata": {
    "collapsed": true
   },
   "outputs": [],
   "source": [
    "%matplotlib inline\n",
    "import matplotlib.pyplot as plt\n",
    "import numpy as np"
   ]
  },
  {
   "cell_type": "code",
   "execution_count": 6,
   "metadata": {
    "collapsed": true
   },
   "outputs": [],
   "source": [
    "def sigmoid(z):\n",
    "    return 1.0/(1.0 + np.exp(-z))\n",
    "\n",
    "def sigmoidDer(z):\n",
    "    sig = sigmoid(z)\n",
    "    return sig * (1.0 - sig)"
   ]
  },
  {
   "cell_type": "code",
   "execution_count": 11,
   "metadata": {},
   "outputs": [],
   "source": [
    "def func(oWeights, x, h):\n",
    "    z = oWeights[0] + oWeights[1] * x + oWeights[2] * h\n",
    "    return sigmoid(z)\n",
    "\n",
    "def funcGrad(oWeights, x, h):\n",
    "    z      = oWeights[0] + oWeights[1] * x + oWeights[2] * h\n",
    "    sigDer = sigmoidDer(z)\n",
    "    dw0    = sigDer\n",
    "    dw1    = sigDer * x\n",
    "    dw2    = sigDer * h\n",
    "    return np.array([dw0, dw1, dw2])\n",
    "\n",
    "def funcGradByH(oWeights, x, h):\n",
    "    z = oWeights[0] + oWeights[1] * x + oWeights[2] * h\n",
    "    return sigmoidDer(z) * oWeights[2]"
   ]
  },
  {
   "cell_type": "code",
   "execution_count": 12,
   "metadata": {},
   "outputs": [],
   "source": [
    "#not sure that this ok\n",
    "def hiddenFunc(hWeights, x, h):\n",
    "    return func(hWeights, x, h)\n",
    "def hiddenFuncGrad(hWeights, x, h):\n",
    "    return funcGrad(hWeights, x, h)\n",
    "def hiddenFuncGradByH(hWeights, x, h):\n",
    "    return funcGradByH(hWeights, x, h)"
   ]
  },
  {
   "cell_type": "code",
   "execution_count": null,
   "metadata": {
    "collapsed": true
   },
   "outputs": [],
   "source": [
    "def massiveFunc(oWeights, hWeights, xs, h0):\n",
    "    h = h0\n",
    "    res = np.zeros(len(xs))\n",
    "    for i, x in enumerate(xs):\n",
    "        res[i] = func(oWeights, xs[i], h)\n",
    "        h      = hiddenFunc(hWeights, xs[i], h)\n",
    "    return res, h\n",
    "\n",
    "def massiveFuncJac(oWeights, hWeights, xs, h0):\n",
    "    nXs       = len(xs)\n",
    "    dOWeights = np.zeros((nXs, len(oWeights)))\n",
    "    dHWeights = np.zeros((nXs, len(hWeights)))\n",
    "    hs        = np.zeros(nXs)\n",
    "    hs[0]     = h0\n",
    "    for i in xrange(1, nXs):\n",
    "        hs[i] = hiddenFunc(hWeights, xs[i], hs[i - 1])"
   ]
  }
 ],
 "metadata": {
  "kernelspec": {
   "display_name": "Python 2",
   "language": "python",
   "name": "python2"
  },
  "language_info": {
   "codemirror_mode": {
    "name": "ipython",
    "version": 2
   },
   "file_extension": ".py",
   "mimetype": "text/x-python",
   "name": "python",
   "nbconvert_exporter": "python",
   "pygments_lexer": "ipython2",
   "version": "2.7.12+"
  }
 },
 "nbformat": 4,
 "nbformat_minor": 2
}
