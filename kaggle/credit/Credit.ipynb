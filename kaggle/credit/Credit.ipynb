{
 "metadata": {
  "name": "",
  "signature": "sha256:fbd2468d989e79b4d504dbc980f1f5c623c03ebddc964279675b891781e3d88c"
 },
 "nbformat": 3,
 "nbformat_minor": 0,
 "worksheets": [
  {
   "cells": [
    {
     "cell_type": "code",
     "collapsed": false,
     "input": [
      "import numpy as np\n",
      "import pandas as pd\n",
      "%matplotlib inline\n",
      "import matplotlib.pyplot as plt\n",
      "import scipy\n",
      "import sklearn\n",
      "import sklearn.ensemble\n"
     ],
     "language": "python",
     "metadata": {},
     "outputs": [],
     "prompt_number": 15
    },
    {
     "cell_type": "code",
     "collapsed": false,
     "input": [
      "data_train_val = pandas.read_csv('./cs-training.csv')\n",
      "data_test = pandas.read_csv('./cs-test.csv')"
     ],
     "language": "python",
     "metadata": {},
     "outputs": [],
     "prompt_number": 3
    },
    {
     "cell_type": "code",
     "collapsed": false,
     "input": [
      "data_train_val.columns.values"
     ],
     "language": "python",
     "metadata": {},
     "outputs": [
      {
       "metadata": {},
       "output_type": "pyout",
       "prompt_number": 6,
       "text": [
        "array(['Unnamed: 0', 'SeriousDlqin2yrs',\n",
        "       'RevolvingUtilizationOfUnsecuredLines', 'age',\n",
        "       'NumberOfTime30-59DaysPastDueNotWorse', 'DebtRatio',\n",
        "       'MonthlyIncome', 'NumberOfOpenCreditLinesAndLoans',\n",
        "       'NumberOfTimes90DaysLate', 'NumberRealEstateLoansOrLines',\n",
        "       'NumberOfTime60-89DaysPastDueNotWorse', 'NumberOfDependents'], dtype=object)"
       ]
      }
     ],
     "prompt_number": 6
    },
    {
     "cell_type": "code",
     "collapsed": false,
     "input": [
      "data_train_val = data_train_val.interpolate()\n",
      "data_test = data_test.interpolate()\n",
      "data_train_val = data_train_val.drop('Unnamed: 0', 1)\n",
      "data_test = data_test.drop('Unnamed: 0', 1)\n",
      "# for cName in list(data_train_val.columns.values):\n",
      "#     tmp = data_train_val.hist(column=cName, bins=100)\n",
      "#     plt.show()\n",
      "    #print sum(pd.is_nan(data_train_val[cName]))"
     ],
     "language": "python",
     "metadata": {},
     "outputs": [],
     "prompt_number": 23
    },
    {
     "cell_type": "code",
     "collapsed": false,
     "input": [
      "#data_train_val['MonthlyIncome'].value_counts(dropna=False)\n",
      "#print len(data_train_val)"
     ],
     "language": "python",
     "metadata": {},
     "outputs": [],
     "prompt_number": 24
    },
    {
     "cell_type": "code",
     "collapsed": false,
     "input": [],
     "language": "python",
     "metadata": {},
     "outputs": []
    }
   ],
   "metadata": {}
  }
 ]
}